{
 "cells": [
  {
   "cell_type": "code",
   "execution_count": 165,
   "metadata": {},
   "outputs": [],
   "source": [
    "import numpy as np\n",
    "import torch\n",
    "import matplotlib.pyplot as plt"
   ]
  },
  {
   "cell_type": "code",
   "execution_count": 166,
   "metadata": {},
   "outputs": [],
   "source": [
    "n_actions = 10\n",
    "action_rewards = np.array(range(1, n_actions + 1))"
   ]
  },
  {
   "cell_type": "code",
   "execution_count": 167,
   "metadata": {},
   "outputs": [
    {
     "data": {
      "text/plain": [
       "[<matplotlib.lines.Line2D at 0x11c1bff98>]"
      ]
     },
     "execution_count": 167,
     "metadata": {},
     "output_type": "execute_result"
    },
    {
     "data": {
      "image/png": "[encoded data removed]",
      "text/plain": [
       "<Figure size 432x288 with 1 Axes>"
      ]
     },
     "metadata": {
      "needs_background": "light"
     },
     "output_type": "display_data"
    }
   ],
   "source": [
    "plt.plot(action_rewards)"
   ]
  },
  {
   "cell_type": "code",
   "execution_count": 359,
   "metadata": {},
   "outputs": [
    {
     "name": "stdout",
     "output_type": "stream",
     "text": [
      "tensor([0.1818, 0.1636, 0.1455, 0.1273, 0.1091, 0.0909, 0.0727, 0.0545, 0.0364,\n",
      "        0.0182])\n"
     ]
    },
    {
     "data": {
      "text/plain": [
       "<BarContainer object of 10 artists>"
      ]
     },
     "execution_count": 359,
     "metadata": {},
     "output_type": "execute_result"
    },
    {
     "data": {
      "image/png": "[encoded data removed]",
      "text/plain": [
       "<Figure size 432x288 with 1 Axes>"
      ]
     },
     "metadata": {
      "needs_background": "light"
     },
     "output_type": "display_data"
    }
   ],
   "source": [
    "beta_policy = torch.as_tensor((11 - np.arange(1, n_actions+1)) / 55, dtype=torch.float)\n",
    "print(beta_policy)\n",
    "plt.bar(range(n_actions), beta_policy.numpy())"
   ]
  },
  {
   "cell_type": "code",
   "execution_count": 357,
   "metadata": {},
   "outputs": [
    {
     "name": "stdout",
     "output_type": "stream",
     "text": [
      "0 tensor(17.4014, grad_fn=<NegBackward>) tensor([0.6058, 0.2253, 0.8547, 0.8079, 0.7937, 0.2824, 0.0986, 0.6131, 0.8863,\n",
      "        0.7992])\n",
      "10 tensor(11.4955, grad_fn=<NegBackward>) tensor([ 0.1749, -0.0430,  0.4734,  0.5572,  0.5784,  0.2364,  0.1235,  0.7399,\n",
      "         1.2704,  1.8559])\n",
      "20 tensor(3.3941, grad_fn=<NegBackward>) tensor([-0.0719, -0.2035,  0.2535,  0.3903,  0.4148,  0.2002,  0.0059,  0.7289,\n",
      "         0.8740,  3.3750])\n",
      "30 tensor(4.6787, grad_fn=<NegBackward>) tensor([-0.2015, -0.3107,  0.1034,  0.2324,  0.3010,  0.1196, -0.0539,  0.5771,\n",
      "         0.8575,  4.3420])\n",
      "40 tensor(2.4898, grad_fn=<NegBackward>) tensor([-2.9015e-01, -3.8652e-01,  3.2695e-03,  1.1657e-01,  2.0374e-01,\n",
      "         5.6033e-02, -8.8347e-02,  5.0937e-01,  7.7419e-01,  5.0689e+00])\n",
      "50 tensor(2.6864, grad_fn=<NegBackward>) tensor([-0.3224, -0.4129, -0.0303,  0.0880,  0.1802,  0.0504, -0.1064,  0.5155,\n",
      "         0.7854,  5.2196])\n",
      "60 tensor(1.1006, grad_fn=<NegBackward>) tensor([-0.3681, -0.4522, -0.0831,  0.0329,  0.1263,  0.0072, -0.1421,  0.4694,\n",
      "         0.7021,  5.6746])\n",
      "70 tensor(0.9735, grad_fn=<NegBackward>) tensor([-3.8502e-01, -4.6579e-01, -1.0151e-01,  1.4599e-02,  1.1361e-01,\n",
      "        -4.2532e-03, -1.4346e-01,  4.6505e-01,  7.1108e-01,  5.7627e+00])\n",
      "80 tensor(1.2122, grad_fn=<NegBackward>) tensor([-4.0033e-01, -4.7833e-01, -1.1614e-01, -1.5337e-03,  1.0184e-01,\n",
      "        -1.1984e-02, -1.4713e-01,  4.6666e-01,  7.0000e-01,  5.8540e+00])\n",
      "90 tensor(0.5694, grad_fn=<NegBackward>) tensor([-0.4157, -0.4919, -0.1326, -0.0176,  0.0890, -0.0229, -0.1523,  0.4680,\n",
      "         0.6994,  5.9437])\n"
     ]
    },
    {
     "data": {
      "image/png": "[encoded data removed]",
      "text/plain": [
       "<Figure size 432x288 with 1 Axes>"
      ]
     },
     "metadata": {
      "needs_background": "light"
     },
     "output_type": "display_data"
    }
   ],
   "source": [
    "theta = torch.rand(n_actions, dtype=torch.float, requires_grad=True)\n",
    "\n",
    "steps = 100\n",
    "batch_size = 50\n",
    "lr = 1e-1\n",
    "loss_steps = []\n",
    "for t in range(steps):\n",
    "    actions = np.random.choice(n_actions, size=batch_size, p=beta_policy.numpy())\n",
    "    rewards = torch.as_tensor(action_rewards[actions], dtype=torch.float)\n",
    "    tgt_policy = torch.softmax(input=theta, dim=0)\n",
    "    loss = -torch.mean(tgt_policy.detach()[actions] * rewards * torch.log(tgt_policy[actions]) / beta_policy[actions])\n",
    "    loss_steps.append(loss.item())\n",
    "    if t % (steps // 10) == 0:\n",
    "        print(t, loss, theta.data)\n",
    "    loss.backward()\n",
    "    with torch.no_grad():\n",
    "        theta -= lr * theta.grad\n",
    "        theta.grad.zero_()\n",
    "\n",
    "fig = plt.figure(0)\n",
    "ax = fig.add_subplot(111)\n",
    "ax.bar(range(n_actions), tgt_policy.data.numpy())\n",
    "ax.set_xticks(range(n_actions));"
   ]
  },
  {
   "cell_type": "code",
   "execution_count": 360,
   "metadata": {},
   "outputs": [
    {
     "name": "stdout",
     "output_type": "stream",
     "text": [
      "0 tensor(9.2009, grad_fn=<NegBackward>) tensor([0.9691, 0.1070, 0.9315, 0.6111, 0.4552, 0.5978, 0.3458, 0.3990, 0.9472,\n",
      "        0.8399])\n",
      "10 tensor(9.1147, grad_fn=<NegBackward>) tensor([0.6997, 0.2034, 0.8423, 0.7012, 0.6955, 0.7472, 0.4356, 0.4668, 0.8182,\n",
      "        0.5938])\n",
      "20 tensor(10.3756, grad_fn=<NegBackward>) tensor([0.5190, 0.2441, 0.7148, 0.7769, 0.8129, 0.8834, 0.7296, 0.5731, 0.5881,\n",
      "        0.3618])\n",
      "30 tensor(9.2096, grad_fn=<NegBackward>) tensor([0.3453, 0.2569, 0.7388, 0.7430, 0.8184, 0.9218, 0.9239, 0.7182, 0.4516,\n",
      "        0.2857])\n",
      "40 tensor(8.8996, grad_fn=<NegBackward>) tensor([0.2228, 0.2967, 0.7304, 0.8080, 0.9293, 0.9982, 0.8504, 0.7454, 0.5179,\n",
      "        0.1045])\n",
      "50 tensor(7.2662, grad_fn=<NegBackward>) tensor([0.1439, 0.3183, 0.7249, 0.7883, 1.0442, 0.9367, 0.7442, 0.7847, 0.6541,\n",
      "        0.0644])\n",
      "60 tensor(8.3631, grad_fn=<NegBackward>) tensor([0.1070, 0.4289, 0.6904, 0.7833, 1.0272, 0.9991, 0.7144, 0.8132, 0.5303,\n",
      "        0.1098])\n",
      "70 tensor(9.0350, grad_fn=<NegBackward>) tensor([0.0828, 0.4979, 0.6785, 0.7160, 1.0829, 1.0411, 0.7614, 0.7166, 0.4626,\n",
      "        0.1640])\n",
      "80 tensor(8.7821, grad_fn=<NegBackward>) tensor([0.0631, 0.4671, 0.6570, 0.8176, 1.0455, 0.9377, 0.9534, 0.8108, 0.3621,\n",
      "        0.0895])\n",
      "90 tensor(8.6973, grad_fn=<NegBackward>) tensor([ 0.0378,  0.4544,  0.7027,  0.8560,  1.0316,  0.9297,  0.9951,  0.8317,\n",
      "         0.3691, -0.0043])\n"
     ]
    },
    {
     "data": {
      "image/png": "[encoded data removed]",
      "text/plain": [
       "<Figure size 432x288 with 1 Axes>"
      ]
     },
     "metadata": {
      "needs_background": "light"
     },
     "output_type": "display_data"
    }
   ],
   "source": [
    "theta = torch.rand(n_actions, dtype=torch.float, requires_grad=True)\n",
    "\n",
    "steps = 100\n",
    "batch_size = 50\n",
    "lr = 1e-1\n",
    "for t in range(steps):\n",
    "    actions = np.random.choice(n_actions, size=batch_size, p=beta_policy.numpy())\n",
    "    rewards = torch.as_tensor(action_rewards[actions], dtype=torch.float)\n",
    "    tgt_policy = torch.softmax(input=theta, dim=0)\n",
    "    loss = -torch.mean(rewards * torch.log(tgt_policy[actions]))\n",
    "    if t % (steps // 10) == 0:\n",
    "        print(t, loss, theta.data)\n",
    "    loss.backward()\n",
    "    with torch.no_grad():\n",
    "        theta -= lr * theta.grad\n",
    "        theta.grad.zero_()\n",
    "\n",
    "fig = plt.figure(1)\n",
    "ax = fig.add_subplot(111)\n",
    "ax.bar(range(n_actions), tgt_policy.data.numpy())\n",
    "ax.set_xticks(range(n_actions));"
   ]
  },
  {
   "cell_type": "code",
   "execution_count": null,
   "metadata": {},
   "outputs": [],
   "source": []
  },
  {
   "cell_type": "code",
   "execution_count": null,
   "metadata": {},
   "outputs": [],
   "source": []
  }
 ],
 "metadata": {
  "kernelspec": {
   "display_name": "Python 3",
   "language": "python",
   "name": "python3"
  },
  "language_info": {
   "codemirror_mode": {
    "name": "ipython",
    "version": 3
   },
   "file_extension": ".py",
   "mimetype": "text/x-python",
   "name": "python",
   "nbconvert_exporter": "python",
   "pygments_lexer": "ipython3",
   "version": "3.7.3"
  }
 },
 "nbformat": 4,
 "nbformat_minor": 4
}
